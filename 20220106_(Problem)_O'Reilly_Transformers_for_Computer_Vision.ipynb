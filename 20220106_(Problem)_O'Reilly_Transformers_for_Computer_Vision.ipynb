{
  "cells": [
    {
      "cell_type": "markdown",
      "source": [
        "# Transformers for Computer Vision (working with text data)"
      ],
      "metadata": {
        "id": "6wk3drJRB8Qj"
      }
    },
    {
      "cell_type": "markdown",
      "source": [
        "- Ensure you are using a GPU as your Runtime."
      ],
      "metadata": {
        "id": "zN2Zg3I9CofU"
      }
    },
    {
      "cell_type": "code",
      "source": [
        "!pip install transformers==4.24.0 datasets==2.7.1 evaluate==0.3.0 gradio==3.12.0"
      ],
      "metadata": {
        "id": "QgmXF3DECyc9"
      },
      "execution_count": null,
      "outputs": []
    },
    {
      "cell_type": "markdown",
      "metadata": {
        "id": "imrEPOXXxNI_"
      },
      "source": [
        "# Tokenizers for Text"
      ]
    },
    {
      "cell_type": "markdown",
      "source": [
        "## Working with the Hugging Face library"
      ],
      "metadata": {
        "id": "ncJCvimR5-fQ"
      }
    },
    {
      "cell_type": "markdown",
      "source": [
        "**We want to use the same weights for our model and tokenizer. How can we use the bert uncased checkpoint ('bert-base-uncased') for our tokenizer.**"
      ],
      "metadata": {
        "id": "g2rS5c636FvV"
      }
    },
    {
      "cell_type": "code",
      "metadata": {
        "id": "E1_Ha4SBsTvx"
      },
      "source": [],
      "execution_count": null,
      "outputs": []
    },
    {
      "cell_type": "markdown",
      "source": [
        "**How can we determine how large the vocabulary is?**"
      ],
      "metadata": {
        "id": "zVn1o47e6shq"
      }
    },
    {
      "cell_type": "code",
      "source": [],
      "metadata": {
        "id": "MpB6OB_0BzyU"
      },
      "execution_count": null,
      "outputs": []
    },
    {
      "cell_type": "markdown",
      "source": [
        "**Convert the following sentence into**\n",
        "1. Tokens\n",
        "2. Numerical IDs"
      ],
      "metadata": {
        "id": "AJXuMGZ37EmC"
      }
    },
    {
      "cell_type": "code",
      "metadata": {
        "id": "ZyuA_C-qvFbe"
      },
      "source": [
        "sentence = 'I like NLP'\n",
        "\n"
      ],
      "execution_count": null,
      "outputs": []
    },
    {
      "cell_type": "markdown",
      "source": [
        "**What is the relationship between the CLS/SEP tokens and their token_ids?**"
      ],
      "metadata": {
        "id": "Asozs1FixLYl"
      }
    },
    {
      "cell_type": "code",
      "source": [],
      "metadata": {
        "id": "pRyotcZ913ai"
      },
      "execution_count": null,
      "outputs": []
    },
    {
      "cell_type": "markdown",
      "source": [
        "**What happens when a token is not in the vocabulary?**"
      ],
      "metadata": {
        "id": "QRKDmt2BxVJ0"
      }
    },
    {
      "cell_type": "code",
      "source": [
        "'😀' "
      ],
      "metadata": {
        "id": "46StCEdk1mTa"
      },
      "execution_count": null,
      "outputs": []
    },
    {
      "cell_type": "code",
      "source": [
        "sentence = 'I like NLP😀'\n"
      ],
      "metadata": {
        "id": "YFLZsLbf0BWi"
      },
      "execution_count": null,
      "outputs": []
    },
    {
      "cell_type": "markdown",
      "source": [
        "**How would you tokenize first_sentence and second_sentence?**"
      ],
      "metadata": {
        "id": "uyY5PiOwxpem"
      }
    },
    {
      "cell_type": "code",
      "metadata": {
        "id": "eu6Ilp-AajuT"
      },
      "source": [
        "first_sentence = 'I like NLP.'\n",
        "second_sentence = 'What about you?'\n"
      ],
      "execution_count": null,
      "outputs": []
    },
    {
      "cell_type": "code",
      "source": [],
      "metadata": {
        "id": "YVhbhgLqBwvj"
      },
      "execution_count": null,
      "outputs": []
    },
    {
      "cell_type": "code",
      "source": [],
      "metadata": {
        "id": "OYZvoKtNDAKE"
      },
      "execution_count": null,
      "outputs": []
    },
    {
      "cell_type": "code",
      "metadata": {
        "id": "c7b1ClWqbLY1"
      },
      "source": [],
      "execution_count": null,
      "outputs": []
    },
    {
      "cell_type": "code",
      "source": [],
      "metadata": {
        "id": "gaJEgVN6NaOW"
      },
      "execution_count": null,
      "outputs": []
    },
    {
      "cell_type": "markdown",
      "source": [
        "# Text classification - IMDB Dataset"
      ],
      "metadata": {
        "id": "m8ptc7LP6ZxD"
      }
    },
    {
      "cell_type": "markdown",
      "source": [
        "## Datasets library"
      ],
      "metadata": {
        "id": "1FfQ14kh6gRZ"
      }
    },
    {
      "cell_type": "markdown",
      "source": [
        "**How can you load the imdb dataset, using the datasets package?**"
      ],
      "metadata": {
        "id": "raE12UPcx1rn"
      }
    },
    {
      "cell_type": "code",
      "execution_count": null,
      "metadata": {
        "id": "J2ko7M5G54Y9"
      },
      "outputs": [],
      "source": []
    },
    {
      "cell_type": "code",
      "source": [],
      "metadata": {
        "id": "dzQufDiu7OKY"
      },
      "execution_count": null,
      "outputs": []
    },
    {
      "cell_type": "markdown",
      "source": [
        "**Split the dataset as follows:**\n",
        "- train - 1600\n",
        "- validation - 400\n",
        "- test - 400"
      ],
      "metadata": {
        "id": "mzk6qYbd7yEH"
      }
    },
    {
      "cell_type": "code",
      "source": [],
      "metadata": {
        "id": "yBitszCMyNsm"
      },
      "execution_count": null,
      "outputs": []
    },
    {
      "cell_type": "code",
      "source": [],
      "metadata": {
        "id": "-g2v5TGtyNqK"
      },
      "execution_count": null,
      "outputs": []
    },
    {
      "cell_type": "code",
      "source": [],
      "metadata": {
        "id": "yAs8SHZByNiD"
      },
      "execution_count": null,
      "outputs": []
    },
    {
      "cell_type": "code",
      "source": [],
      "metadata": {
        "id": "zi1h9bn7yNfn"
      },
      "execution_count": null,
      "outputs": []
    },
    {
      "cell_type": "code",
      "source": [],
      "metadata": {
        "id": "jnTUbEZuyNbO"
      },
      "execution_count": null,
      "outputs": []
    },
    {
      "cell_type": "code",
      "source": [],
      "metadata": {
        "id": "pyfYmBikyNW2"
      },
      "execution_count": null,
      "outputs": []
    },
    {
      "cell_type": "code",
      "source": [],
      "metadata": {
        "id": "qPIwSiwryNUi"
      },
      "execution_count": null,
      "outputs": []
    },
    {
      "cell_type": "code",
      "source": [],
      "metadata": {
        "id": "wHCRWLrgyNSb"
      },
      "execution_count": null,
      "outputs": []
    },
    {
      "cell_type": "markdown",
      "source": [
        "## Overview of IMDB Dataset"
      ],
      "metadata": {
        "id": "vVWxeSidE6R3"
      }
    },
    {
      "cell_type": "code",
      "source": [
        "import pandas as pd\n",
        "import matplotlib.pyplot as plt\n",
        "pd.set_option('max_colwidth', 250)"
      ],
      "metadata": {
        "id": "9W8lNegFGEGc"
      },
      "execution_count": null,
      "outputs": []
    },
    {
      "cell_type": "markdown",
      "source": [
        "**Convert the imdb dataset (train split) to pandas and display 10 random samples**"
      ],
      "metadata": {
        "id": "xxxLwOO3yqbX"
      }
    },
    {
      "cell_type": "code",
      "source": [],
      "metadata": {
        "id": "kYIQ4TbFBF8w"
      },
      "execution_count": null,
      "outputs": []
    },
    {
      "cell_type": "code",
      "source": [
        "df.loc[0, 'text']"
      ],
      "metadata": {
        "id": "VNmjEPnCGXKK"
      },
      "execution_count": null,
      "outputs": []
    },
    {
      "cell_type": "markdown",
      "source": [
        "Replace `<br />` with a `''`"
      ],
      "metadata": {
        "id": "3aaYUl8gyXWN"
      }
    },
    {
      "cell_type": "code",
      "source": [],
      "metadata": {
        "id": "EjA116L-GrHL"
      },
      "execution_count": null,
      "outputs": []
    },
    {
      "cell_type": "code",
      "source": [
        "#code snippet to display a boxplot\n",
        "df[\"Words per review\"] = df[\"text\"].str.split().apply(len)\n",
        "df.boxplot(\"Words per review\", by=\"label\", grid=False, showfliers=False,\n",
        "           color=\"black\")\n",
        "plt.suptitle(\"\")\n",
        "plt.xlabel(\"\")\n",
        "plt.show()"
      ],
      "metadata": {
        "id": "iMkhVdcXIYlA"
      },
      "execution_count": null,
      "outputs": []
    },
    {
      "cell_type": "markdown",
      "source": [
        "**Show all reviews that are less than 200 characters long.**"
      ],
      "metadata": {
        "id": "o_Fu1_q0zHKj"
      }
    },
    {
      "cell_type": "code",
      "source": [
        "# 0 is negative\n",
        "# 1 is positive\n"
      ],
      "metadata": {
        "id": "l8ApthcqFz6N"
      },
      "execution_count": null,
      "outputs": []
    },
    {
      "cell_type": "markdown",
      "source": [
        "**Set the format of the imdb dataset from pandas back to Datasets**"
      ],
      "metadata": {
        "id": "y7ysDHjDzOKe"
      }
    },
    {
      "cell_type": "code",
      "source": [],
      "metadata": {
        "id": "xjPAmZ4EHis9"
      },
      "execution_count": null,
      "outputs": []
    },
    {
      "cell_type": "markdown",
      "source": [
        "## Tokenizer"
      ],
      "metadata": {
        "id": "w_gtRu5PJgt0"
      }
    },
    {
      "cell_type": "markdown",
      "source": [
        "**Tokenize the entire dataset**"
      ],
      "metadata": {
        "id": "RmPsfocWp3kb"
      }
    },
    {
      "cell_type": "code",
      "source": [
        "from transformers import AutoTokenizer\n",
        "\n",
        "checkpoint = \"bert-base-cased\"\n"
      ],
      "metadata": {
        "id": "J0X7XtbYH0p4"
      },
      "execution_count": null,
      "outputs": []
    },
    {
      "cell_type": "markdown",
      "source": [
        "## Tiny IMDB"
      ],
      "metadata": {
        "id": "5gFjGNLZXixQ"
      }
    },
    {
      "cell_type": "markdown",
      "source": [
        "**Which type of model should we be using?**"
      ],
      "metadata": {
        "id": "CFjpWg2ozhKB"
      }
    },
    {
      "cell_type": "code",
      "source": [],
      "metadata": {
        "id": "SUpl1H7qF9KK"
      },
      "execution_count": null,
      "outputs": []
    },
    {
      "cell_type": "markdown",
      "source": [
        "**Given the following checkpoint, use a GPU if it is available and define the model**"
      ],
      "metadata": {
        "id": "zWm61icGzpI1"
      }
    },
    {
      "cell_type": "code",
      "source": [],
      "metadata": {
        "id": "8Zbgt_1rKVcb"
      },
      "execution_count": null,
      "outputs": []
    },
    {
      "cell_type": "markdown",
      "source": [
        "**Create a dataset that has the following and tokenize them**\n",
        "- 50 elements in the training set \n",
        "- 10 in the validation set and\n",
        "- 10 in the test set."
      ],
      "metadata": {
        "id": "t6rf5E4uz3Ji"
      }
    },
    {
      "cell_type": "code",
      "source": [],
      "metadata": {
        "id": "Lw_n8OP5yNI6"
      },
      "execution_count": null,
      "outputs": []
    },
    {
      "cell_type": "markdown",
      "source": [
        "**Using the model_name, `model_name` determine the training arguments for model training.**"
      ],
      "metadata": {
        "id": "gwXuycBN0IWM"
      }
    },
    {
      "cell_type": "code",
      "source": [
        "model_name = f\"{checkpoint}-finetuned-imdb\""
      ],
      "metadata": {
        "id": "Ch0RWXjpXqMr"
      },
      "execution_count": null,
      "outputs": []
    },
    {
      "cell_type": "code",
      "source": [],
      "metadata": {
        "id": "BoHhITye2LRe"
      },
      "execution_count": null,
      "outputs": []
    },
    {
      "cell_type": "markdown",
      "source": [
        "**Kick off a training run. What is the good metric for classification?**"
      ],
      "metadata": {
        "id": "MTjJG7hF0cJf"
      }
    },
    {
      "cell_type": "code",
      "source": [],
      "metadata": {
        "id": "iKMb2xTN0NJ6"
      },
      "execution_count": null,
      "outputs": []
    },
    {
      "cell_type": "code",
      "source": [],
      "metadata": {
        "id": "Tsy4dR-7ZAv-"
      },
      "execution_count": null,
      "outputs": []
    },
    {
      "cell_type": "code",
      "source": [],
      "metadata": {
        "id": "F_gLkCEiZRSp"
      },
      "execution_count": null,
      "outputs": []
    },
    {
      "cell_type": "code",
      "source": [],
      "metadata": {
        "id": "rhEcbSExZaHD"
      },
      "execution_count": null,
      "outputs": []
    },
    {
      "cell_type": "code",
      "source": [],
      "metadata": {
        "id": "tsXFMaTaZfHH"
      },
      "execution_count": null,
      "outputs": []
    },
    {
      "cell_type": "code",
      "source": [],
      "metadata": {
        "id": "mN4SyJHuZjdd"
      },
      "execution_count": null,
      "outputs": []
    },
    {
      "cell_type": "markdown",
      "source": [
        "**Create a helper function, `get_accuracy` to use accuracy as the metric**"
      ],
      "metadata": {
        "id": "Ye33tNhv1PQw"
      }
    },
    {
      "cell_type": "code",
      "source": [],
      "metadata": {
        "id": "DXKvztDWZ0tQ"
      },
      "execution_count": null,
      "outputs": []
    },
    {
      "cell_type": "code",
      "source": [],
      "metadata": {
        "id": "E_GJFH362AWJ"
      },
      "execution_count": null,
      "outputs": []
    },
    {
      "cell_type": "markdown",
      "source": [
        "**Kick off another training run and confirm you get the metric you expect**"
      ],
      "metadata": {
        "id": "CczQFwJ713kG"
      }
    },
    {
      "cell_type": "code",
      "source": [],
      "metadata": {
        "id": "f2ItD2XQag5d"
      },
      "execution_count": null,
      "outputs": []
    },
    {
      "cell_type": "code",
      "source": [],
      "metadata": {
        "id": "QWKERKr-2Ar9"
      },
      "execution_count": null,
      "outputs": []
    },
    {
      "cell_type": "markdown",
      "source": [
        "**Now kick off a full training run**"
      ],
      "metadata": {
        "id": "bFKPj95ObT89"
      }
    },
    {
      "cell_type": "code",
      "source": [],
      "metadata": {
        "id": "VeR9PTxMz-zA"
      },
      "execution_count": null,
      "outputs": []
    },
    {
      "cell_type": "code",
      "source": [],
      "metadata": {
        "id": "w-mrYweVL_9F"
      },
      "execution_count": null,
      "outputs": []
    },
    {
      "cell_type": "code",
      "source": [],
      "metadata": {
        "id": "BcrSS_Fl2t1E"
      },
      "execution_count": null,
      "outputs": []
    },
    {
      "cell_type": "code",
      "source": [],
      "metadata": {
        "id": "79fBSXBGlkiF"
      },
      "execution_count": null,
      "outputs": []
    },
    {
      "cell_type": "code",
      "source": [],
      "metadata": {
        "id": "C_rZFIbXL73P"
      },
      "execution_count": null,
      "outputs": []
    },
    {
      "cell_type": "code",
      "source": [],
      "metadata": {
        "id": "nbo96MxTAulG"
      },
      "execution_count": null,
      "outputs": []
    },
    {
      "cell_type": "markdown",
      "source": [
        "**What results do you get the following?**"
      ],
      "metadata": {
        "id": "n0ANRNwG2oXf"
      }
    },
    {
      "cell_type": "code",
      "source": [
        "text = 'This is not my idea of fun'"
      ],
      "metadata": {
        "id": "2LGdWc2-MzyP"
      },
      "execution_count": null,
      "outputs": []
    },
    {
      "cell_type": "code",
      "source": [
        "text = 'This was beyond incredible'"
      ],
      "metadata": {
        "id": "0qniEZcAMCLK"
      },
      "execution_count": null,
      "outputs": []
    },
    {
      "cell_type": "code",
      "source": [],
      "metadata": {
        "id": "L9v0QpQgPrH0"
      },
      "execution_count": null,
      "outputs": []
    },
    {
      "cell_type": "markdown",
      "metadata": {
        "id": "HCHKaaIQ484A"
      },
      "source": [
        "# Vision Transformers"
      ]
    },
    {
      "cell_type": "markdown",
      "metadata": {
        "id": "N9vBlTLmW9yC"
      },
      "source": [
        "## Getting the data"
      ]
    },
    {
      "cell_type": "code",
      "execution_count": null,
      "metadata": {
        "id": "ZbuJrEMXNhHs"
      },
      "outputs": [],
      "source": [
        "!wget https://github.com/jonfernandes/flowers-dataset/raw/main/flower_photos.tgz\n",
        "!tar -xvf flower_photos.tgz\n"
      ]
    },
    {
      "cell_type": "code",
      "source": [],
      "metadata": {
        "id": "taxKDzmm5gpu"
      },
      "execution_count": null,
      "outputs": []
    },
    {
      "cell_type": "markdown",
      "metadata": {
        "id": "JQxDza3lczNB"
      },
      "source": [
        "## Using datasets"
      ]
    },
    {
      "cell_type": "code",
      "execution_count": null,
      "metadata": {
        "id": "lIYdn1woOS1n"
      },
      "outputs": [],
      "source": [
        "!pip install transformers==4.24.0 datasets==2.7.1 evaluate==0.3.0 gradio==3.12.0"
      ]
    },
    {
      "cell_type": "markdown",
      "source": [
        "**Load the flowers datasets into HuggingFace datasets**"
      ],
      "metadata": {
        "id": "JJ9BpaJf5kBH"
      }
    },
    {
      "cell_type": "code",
      "execution_count": null,
      "metadata": {
        "id": "XO3XUZXG5Phh"
      },
      "outputs": [],
      "source": []
    },
    {
      "cell_type": "markdown",
      "source": [
        "**Display the first 5 images**"
      ],
      "metadata": {
        "id": "Kqp0RVgb5v1T"
      }
    },
    {
      "cell_type": "code",
      "execution_count": null,
      "metadata": {
        "id": "zZRYrUL-8GQ_"
      },
      "outputs": [],
      "source": []
    },
    {
      "cell_type": "markdown",
      "source": [
        "**What are the labels?**"
      ],
      "metadata": {
        "id": "LqM_sueB6GED"
      }
    },
    {
      "cell_type": "code",
      "execution_count": null,
      "metadata": {
        "id": "cM-f3dIG7Cu6"
      },
      "outputs": [],
      "source": [
        "labels = ds['train'].features['label'].names\n",
        "labels"
      ]
    },
    {
      "cell_type": "markdown",
      "source": [
        "Split the dataset, so that you have the following:\n",
        "- Train set - 80%\n",
        "- Validation set - 10%\n",
        "- Test set - 10%"
      ],
      "metadata": {
        "id": "RsmB6z3F6OSB"
      }
    },
    {
      "cell_type": "code",
      "execution_count": null,
      "metadata": {
        "id": "aJR68KTJ8GMb"
      },
      "outputs": [],
      "source": []
    },
    {
      "cell_type": "code",
      "execution_count": null,
      "metadata": {
        "id": "29XQYliL8GKK"
      },
      "outputs": [],
      "source": []
    },
    {
      "cell_type": "code",
      "execution_count": null,
      "metadata": {
        "id": "KynqLa6V8GH7"
      },
      "outputs": [],
      "source": []
    },
    {
      "cell_type": "code",
      "execution_count": null,
      "metadata": {
        "id": "BuWuiO9iIz-2"
      },
      "outputs": [],
      "source": []
    },
    {
      "cell_type": "code",
      "execution_count": null,
      "metadata": {
        "id": "afrPYN-hI7Hx"
      },
      "outputs": [],
      "source": []
    },
    {
      "cell_type": "markdown",
      "metadata": {
        "id": "qBJ54O629Elh"
      },
      "source": [
        "## Using a pre-trained model without fine-tuning"
      ]
    },
    {
      "cell_type": "markdown",
      "source": [
        "Determine which model you should be using and remember to use a GPU if one is available"
      ],
      "metadata": {
        "id": "yt7nrde_6h21"
      }
    },
    {
      "cell_type": "code",
      "execution_count": null,
      "metadata": {
        "id": "Fxc4qKQQ8GF8"
      },
      "outputs": [],
      "source": [
        "\n"
      ]
    },
    {
      "cell_type": "markdown",
      "source": [
        "**Define the feature extractor**"
      ],
      "metadata": {
        "id": "u8dqxEK66oTC"
      }
    },
    {
      "cell_type": "code",
      "execution_count": null,
      "metadata": {
        "id": "HSUuSBbw8GD0"
      },
      "outputs": [],
      "source": []
    },
    {
      "cell_type": "markdown",
      "source": [
        "**Using `train_image_id = 3` what flower do you have for this image (This will vary for everyone)**"
      ],
      "metadata": {
        "id": "l8qx9Wfz6yPs"
      }
    },
    {
      "cell_type": "code",
      "execution_count": null,
      "metadata": {
        "id": "xnfOjGTQFrWk"
      },
      "outputs": [],
      "source": []
    },
    {
      "cell_type": "markdown",
      "source": [
        "**What happens when you pass this image to the feature extractor?**"
      ],
      "metadata": {
        "id": "cANHAH437NbN"
      }
    },
    {
      "cell_type": "code",
      "execution_count": null,
      "metadata": {
        "id": "8UzxKWx98GBe"
      },
      "outputs": [],
      "source": []
    },
    {
      "cell_type": "code",
      "execution_count": null,
      "metadata": {
        "id": "MDqS38o58F_B"
      },
      "outputs": [],
      "source": []
    },
    {
      "cell_type": "code",
      "execution_count": null,
      "metadata": {
        "id": "rw5zMxzkFVS_"
      },
      "outputs": [],
      "source": []
    },
    {
      "cell_type": "markdown",
      "source": [
        "**What flower does the model predict?**"
      ],
      "metadata": {
        "id": "SeS4-nCW7YCF"
      }
    },
    {
      "cell_type": "code",
      "execution_count": null,
      "metadata": {
        "id": "n3hI5BGdE6mD"
      },
      "outputs": [],
      "source": []
    },
    {
      "cell_type": "code",
      "execution_count": null,
      "metadata": {
        "id": "BFnccBb5E9si"
      },
      "outputs": [],
      "source": []
    },
    {
      "cell_type": "code",
      "execution_count": null,
      "metadata": {
        "id": "EuoD66YcNNsB"
      },
      "outputs": [],
      "source": []
    },
    {
      "cell_type": "code",
      "execution_count": null,
      "metadata": {
        "id": "Fvzd-YsBFFp1"
      },
      "outputs": [],
      "source": []
    },
    {
      "cell_type": "code",
      "execution_count": null,
      "metadata": {
        "id": "yy7K6LsVFyWg"
      },
      "outputs": [],
      "source": []
    },
    {
      "cell_type": "code",
      "execution_count": null,
      "metadata": {
        "id": "BHHnJh7qoq-B"
      },
      "outputs": [],
      "source": []
    },
    {
      "cell_type": "markdown",
      "source": [
        "**Which flowers are in the Imagenet dataset?**"
      ],
      "metadata": {
        "id": "YOgNSlkn7hMA"
      }
    },
    {
      "cell_type": "markdown",
      "metadata": {
        "id": "RJvZfg4-Gh3A"
      },
      "source": [
        "## Defining a model"
      ]
    },
    {
      "cell_type": "markdown",
      "source": [
        "**Define your own model using the following:**\n",
        "- model_id\n",
        "- num_labels\n",
        "- id2label\n",
        "- label2id\n",
        "- ignore_mismatched_sizes"
      ],
      "metadata": {
        "id": "5lBtUHnG7ob8"
      }
    },
    {
      "cell_type": "code",
      "source": [],
      "metadata": {
        "id": "S9ehcmYZQK4t"
      },
      "execution_count": null,
      "outputs": []
    },
    {
      "cell_type": "code",
      "source": [],
      "metadata": {
        "id": "muF6QX7FQKt7"
      },
      "execution_count": null,
      "outputs": []
    },
    {
      "cell_type": "code",
      "execution_count": null,
      "metadata": {
        "id": "eYRFd6NSHxwF"
      },
      "outputs": [],
      "source": []
    },
    {
      "cell_type": "code",
      "execution_count": null,
      "metadata": {
        "id": "85V4W8oEH6YT"
      },
      "outputs": [],
      "source": []
    },
    {
      "cell_type": "code",
      "execution_count": null,
      "metadata": {
        "id": "2hXwllydF6Ct"
      },
      "outputs": [],
      "source": []
    },
    {
      "cell_type": "markdown",
      "metadata": {
        "id": "VTW0i2y3JJjy"
      },
      "source": [
        "## Pre-processing images"
      ]
    },
    {
      "cell_type": "code",
      "execution_count": null,
      "metadata": {
        "id": "CjFWrtOxJLQi"
      },
      "outputs": [],
      "source": [
        "import torchvision\n",
        "\n",
        "from torchvision.transforms import (\n",
        "    Compose,\n",
        "    Normalize,\n",
        "    RandomHorizontalFlip,\n",
        "    RandomResizedCrop,\n",
        "    ToTensor,\n",
        "    Resize,\n",
        "    CenterCrop\n",
        ")"
      ]
    },
    {
      "cell_type": "markdown",
      "source": [
        "**Define normalize. What is its purpose?**"
      ],
      "metadata": {
        "id": "K2rGfxW48KRJ"
      }
    },
    {
      "cell_type": "code",
      "execution_count": null,
      "metadata": {
        "id": "-ftmq_p6Jzfe"
      },
      "outputs": [],
      "source": [
        "normalize = Normalize(mean=feature_extractor.image_mean, std=feature_extractor.image_std)"
      ]
    },
    {
      "cell_type": "code",
      "execution_count": null,
      "metadata": {
        "id": "dmxsmTJllym6"
      },
      "outputs": [],
      "source": [
        "feature_extractor.size"
      ]
    },
    {
      "cell_type": "markdown",
      "source": [
        "**Answer the following:**\n",
        "- Why is `train_transform` and `validation_transform` different in the code snippet below?\n",
        "- What is `pixel_vlues`?"
      ],
      "metadata": {
        "id": "ekgSXPhy8Tsc"
      }
    },
    {
      "cell_type": "code",
      "execution_count": null,
      "metadata": {
        "id": "nXlmCLMIJ7Mv"
      },
      "outputs": [],
      "source": [
        "train_transform = Compose(\n",
        "    [\n",
        "     RandomResizedCrop(feature_extractor.size),\n",
        "     RandomHorizontalFlip(),\n",
        "     ToTensor(),\n",
        "     normalize\n",
        "    ]\n",
        ")\n",
        "\n",
        "validation_transform = Compose(\n",
        "        [\n",
        "            Resize(feature_extractor.size),\n",
        "            CenterCrop(feature_extractor.size),\n",
        "            ToTensor(),\n",
        "            normalize,\n",
        "        ]\n",
        "    )\n",
        "\n",
        "def train_transform_images(images):\n",
        "  images[\"pixel_values\"] = [train_transform(image.convert(\"RGB\")) for image in images[\"image\"]]\n",
        "  return images\n",
        "\n",
        "def validation_transform_images(images):\n",
        "  images[\"pixel_values\"] = [validation_transform(image.convert(\"RGB\")) for image in images[\"image\"]]\n",
        "  return images"
      ]
    },
    {
      "cell_type": "markdown",
      "source": [
        "**What is the difference between `map` and `with_transform`?**"
      ],
      "metadata": {
        "id": "UhmOHUNb8sE4"
      }
    },
    {
      "cell_type": "code",
      "execution_count": null,
      "metadata": {
        "id": "1hnwnUBYKAVi"
      },
      "outputs": [],
      "source": [
        "transformed_ds = ds.with_transform(train_transform_images)\n",
        "transformed_ds['train'] = ds['train'].with_transform(train_transform_images)\n",
        "transformed_ds['validation'] = ds['validation'].with_transform(validation_transform_images)\n",
        "transformed_ds['test'] = ds['test'].with_transform(validation_transform_images)"
      ]
    },
    {
      "cell_type": "markdown",
      "metadata": {
        "id": "UiPdn57OKLmG"
      },
      "source": [
        "## A transformed image"
      ]
    },
    {
      "cell_type": "markdown",
      "source": [
        "**Using the following sample image, show how the image changes when using:**\n",
        "- train_transform\n",
        "- validation_transform\n",
        "\n",
        "**Run this a couple of times**"
      ],
      "metadata": {
        "id": "1cGqm_ji83T-"
      }
    },
    {
      "cell_type": "code",
      "execution_count": null,
      "metadata": {
        "id": "ywzesa4YKUdZ"
      },
      "outputs": [],
      "source": [
        "sample_image = ds['train'][train_image_id]['image']\n",
        "sample_image"
      ]
    },
    {
      "cell_type": "code",
      "execution_count": null,
      "metadata": {
        "id": "usahzg5WKNT8"
      },
      "outputs": [],
      "source": []
    },
    {
      "cell_type": "code",
      "execution_count": null,
      "metadata": {
        "id": "9PcMzWViwzOz"
      },
      "outputs": [],
      "source": []
    },
    {
      "cell_type": "code",
      "execution_count": null,
      "metadata": {
        "id": "xVIkSq4XtIvN"
      },
      "outputs": [],
      "source": []
    },
    {
      "cell_type": "markdown",
      "metadata": {
        "id": "yZmNkpKwmMAO"
      },
      "source": [
        "## Getting images in the correct format"
      ]
    },
    {
      "cell_type": "markdown",
      "metadata": {
        "id": "KfmZYJSbnwM3"
      },
      "source": [
        "**4-images**"
      ]
    },
    {
      "cell_type": "markdown",
      "source": [
        "Working with 4 images determine the following (use the Hugging Face documentation here):\n",
        "- labels that are tensors\n",
        "- pixel_values that are stacked"
      ],
      "metadata": {
        "id": "SPj_XSGP9aKR"
      }
    },
    {
      "cell_type": "code",
      "execution_count": null,
      "metadata": {
        "id": "Ikhrn_hjmYx6"
      },
      "outputs": [],
      "source": [
        "four_images = [transformed_ds['train'][i] for i in range(4)]\n",
        "four_images"
      ]
    },
    {
      "cell_type": "code",
      "execution_count": null,
      "metadata": {
        "id": "-rLpZUSboBhZ"
      },
      "outputs": [],
      "source": [
        "print(four_images[0]['pixel_values'].shape, four_images[1]['pixel_values'].shape, four_images[2]['pixel_values'].shape, four_images[3]['pixel_values'].shape)"
      ]
    },
    {
      "cell_type": "code",
      "execution_count": null,
      "metadata": {
        "id": "Exn-nl9fob8n"
      },
      "outputs": [],
      "source": []
    },
    {
      "cell_type": "code",
      "execution_count": null,
      "metadata": {
        "id": "-NPeAgghotvr"
      },
      "outputs": [],
      "source": []
    },
    {
      "cell_type": "code",
      "execution_count": null,
      "metadata": {
        "id": "WRBcWLA-qCn7"
      },
      "outputs": [],
      "source": []
    },
    {
      "cell_type": "code",
      "execution_count": null,
      "metadata": {
        "id": "Ot6CGsw-qi8C"
      },
      "outputs": [],
      "source": []
    },
    {
      "cell_type": "code",
      "execution_count": null,
      "metadata": {
        "id": "mgbAJ_xjquB3"
      },
      "outputs": [],
      "source": []
    },
    {
      "cell_type": "code",
      "execution_count": null,
      "metadata": {
        "id": "GkzYRPxxq2Cc"
      },
      "outputs": [],
      "source": []
    },
    {
      "cell_type": "markdown",
      "source": [
        "**What is the purpose of the collate function? Create a collate function for the images.** "
      ],
      "metadata": {
        "id": "LmfLeGLv92kG"
      }
    },
    {
      "cell_type": "code",
      "execution_count": null,
      "metadata": {
        "id": "haB_6uiSMluh"
      },
      "outputs": [],
      "source": [
        "from torch.utils.data import DataLoader\n",
        "\n",
        "def collate_fn(images):\n",
        "  pass\n",
        "\n",
        "train_dataloader = DataLoader(transformed_ds['train'], batch_size=4, collate_fn=collate_fn, shuffle=True)\n",
        "validation_dataloader = DataLoader(transformed_ds['validation'], batch_size=4, collate_fn=collate_fn, shuffle=False)\n",
        "test_dataloader = DataLoader(transformed_ds['test'], batch_size=4, collate_fn=collate_fn, shuffle=False)"
      ]
    },
    {
      "cell_type": "code",
      "execution_count": null,
      "metadata": {
        "id": "TQbcX4_HH9Bq"
      },
      "outputs": [],
      "source": [
        "batch = next(iter(train_dataloader))\n",
        "\n",
        "for key, value in batch.items():\n",
        "  print(key, value.shape)"
      ]
    },
    {
      "cell_type": "markdown",
      "metadata": {
        "id": "3RGT44H_LvFR"
      },
      "source": [
        "## Training arguments"
      ]
    },
    {
      "cell_type": "markdown",
      "source": [
        "**Determine the training arguments**"
      ],
      "metadata": {
        "id": "sgmXn4Zh-Mjg"
      }
    },
    {
      "cell_type": "code",
      "execution_count": null,
      "metadata": {
        "id": "nkBJ9aVoLsz0"
      },
      "outputs": [],
      "source": [
        "from transformers import TrainingArguments, Trainer\n",
        "\n",
        "batch_size=32\n",
        "metric_name = \"accuracy\"\n",
        "model_name = 'vit-base-patch16-224-finetuned-flower'\n"
      ]
    },
    {
      "cell_type": "code",
      "execution_count": null,
      "metadata": {
        "id": "1c2sth6RMGXf"
      },
      "outputs": [],
      "source": [
        "from huggingface_hub import notebook_login\n",
        "notebook_login()"
      ]
    },
    {
      "cell_type": "code",
      "execution_count": null,
      "metadata": {
        "id": "F9i_4VhsvFyU"
      },
      "outputs": [],
      "source": [
        "!git config --global credential.helper store"
      ]
    },
    {
      "cell_type": "markdown",
      "metadata": {
        "id": "qKUq5fSyL26A"
      },
      "source": [
        "## Model Training"
      ]
    },
    {
      "cell_type": "markdown",
      "source": [
        "**Kick of a training run**"
      ],
      "metadata": {
        "id": "vPPZds-i-VIs"
      }
    },
    {
      "cell_type": "code",
      "execution_count": null,
      "metadata": {
        "id": "ZtCvN-f2WKE1"
      },
      "outputs": [],
      "source": []
    },
    {
      "cell_type": "code",
      "execution_count": null,
      "metadata": {
        "id": "PEFmzL5dckk6"
      },
      "outputs": [],
      "source": []
    },
    {
      "cell_type": "markdown",
      "metadata": {
        "id": "U14aEwlYgW7c"
      },
      "source": [
        "From the [evaluate documentation](https://huggingface.co/docs/evaluate/a_quick_tour#compute):\n",
        "\n",
        "```\n",
        "metric.compute(\n",
        "          references=..., \n",
        "          predictions=...)\n",
        "```"
      ]
    },
    {
      "cell_type": "markdown",
      "source": [
        "**This time use the evaluate package to define the accuracy and kick-off a training run**"
      ],
      "metadata": {
        "id": "1pAGClkS-gSu"
      }
    },
    {
      "cell_type": "code",
      "execution_count": null,
      "metadata": {
        "id": "moz6njKCKaRr"
      },
      "outputs": [],
      "source": []
    },
    {
      "cell_type": "code",
      "execution_count": null,
      "metadata": {
        "id": "Ad1YCGbvLsxd"
      },
      "outputs": [],
      "source": []
    },
    {
      "cell_type": "code",
      "execution_count": null,
      "metadata": {
        "id": "pEBGOgpQmuXb"
      },
      "outputs": [],
      "source": []
    },
    {
      "cell_type": "code",
      "execution_count": null,
      "metadata": {
        "id": "ime2ojIamL86"
      },
      "outputs": [],
      "source": []
    },
    {
      "cell_type": "markdown",
      "source": [
        "**What are the evaluation results for the train, test and validation split?**"
      ],
      "metadata": {
        "id": "InoZ3P9T-52N"
      }
    },
    {
      "cell_type": "code",
      "execution_count": null,
      "metadata": {
        "id": "qCvt6q2EUOWr"
      },
      "outputs": [],
      "source": []
    },
    {
      "cell_type": "code",
      "execution_count": null,
      "metadata": {
        "id": "F2dA4bSVUT04"
      },
      "outputs": [],
      "source": []
    },
    {
      "cell_type": "code",
      "execution_count": null,
      "metadata": {
        "id": "xrqwVgTMTucY"
      },
      "outputs": [],
      "source": []
    },
    {
      "cell_type": "markdown",
      "metadata": {
        "id": "7R1BWYZkMET2"
      },
      "source": [
        "## Inference in notebook"
      ]
    },
    {
      "cell_type": "code",
      "execution_count": null,
      "metadata": {
        "id": "m9wye5rMLsvC"
      },
      "outputs": [],
      "source": [
        "test_image = ds['test'][-1]['image']\n",
        "test_image"
      ]
    },
    {
      "cell_type": "markdown",
      "source": [
        "**Define the function `classify_image` using the model you have pushed up to huggingface. Use argmax as the final layer**"
      ],
      "metadata": {
        "id": "h81EpENV_PX9"
      }
    },
    {
      "cell_type": "code",
      "execution_count": null,
      "metadata": {
        "id": "jMe0EO2ZPwH-"
      },
      "outputs": [],
      "source": [
        "import torch\n",
        "from transformers import AutoModelForImageClassification, AutoFeatureExtractor\n",
        "\n",
        "model_id = f'jonathanfernandes/vit-base-patch16-224-finetuned-flower'\n",
        "\n",
        "def classify_image(image):\n",
        "  pass\n",
        "\n",
        "classify_image(test_image)"
      ]
    },
    {
      "cell_type": "markdown",
      "source": [
        "**This time use softmax as the final layer instead of argmax**"
      ],
      "metadata": {
        "id": "RuxvIeug_oTX"
      }
    },
    {
      "cell_type": "code",
      "execution_count": null,
      "metadata": {
        "id": "Zgwv5kzBf675"
      },
      "outputs": [],
      "source": [
        "import torch\n",
        "\n",
        "model_id = f'jonathanfernandes/vit-base-patch16-224-finetuned-flower'\n",
        "\n",
        "def classify_image(image):\n",
        "  pass\n",
        "\n",
        "classify_image(test_image)"
      ]
    },
    {
      "cell_type": "markdown",
      "source": [
        "**Use HuggingFace's pipeline to classify the image**"
      ],
      "metadata": {
        "id": "av1gLh0DACcF"
      }
    },
    {
      "cell_type": "code",
      "execution_count": null,
      "metadata": {
        "id": "JAU2ju83nCrh"
      },
      "outputs": [],
      "source": [
        "from transformers import pipeline\n",
        "\n",
        "model_id = f'jonathanfernandes/vit-base-patch16-224-finetuned-flower'\n"
      ]
    },
    {
      "cell_type": "markdown",
      "metadata": {
        "id": "Nsz5obyzNzDd"
      },
      "source": [
        "## Inference on your phone using Gradio"
      ]
    },
    {
      "cell_type": "code",
      "execution_count": null,
      "metadata": {
        "id": "cQrwkJnP1Cup"
      },
      "outputs": [],
      "source": [
        "!wget https://github.com/jonfernandes/Advanced_AI_Transformers_for_Computer_Vision/raw/main/flower-1.jpg\n",
        "!wget https://github.com/jonfernandes/Advanced_AI_Transformers_for_Computer_Vision/raw/main/flower-2.jpeg"
      ]
    },
    {
      "cell_type": "code",
      "execution_count": null,
      "metadata": {
        "id": "E4vhAjzhz3ly"
      },
      "outputs": [],
      "source": [
        "!ls -l"
      ]
    },
    {
      "cell_type": "code",
      "execution_count": null,
      "metadata": {
        "id": "6FMoxQU4sBf7"
      },
      "outputs": [],
      "source": [
        "import torch\n",
        "from transformers import AutoModelForImageClassification, AutoFeatureExtractor\n",
        "import gradio as gr\n",
        "\n",
        "model_id = f'jonathanfernandes/vit-base-patch16-224-finetuned-flower'\n",
        "labels = ['daisy', 'dandelion', 'roses', 'sunflowers', 'tulips']\n",
        "\n",
        "def classify_image(image):\n",
        "  pass\n",
        "\n",
        "#Use Gradio to make your model available to everyone."
      ]
    }
  ],
  "metadata": {
    "colab": {
      "provenance": [],
      "collapsed_sections": [
        "ncJCvimR5-fQ"
      ]
    },
    "gpuClass": "standard",
    "kernelspec": {
      "display_name": "Python 3",
      "name": "python3"
    },
    "language_info": {
      "name": "python"
    }
  },
  "nbformat": 4,
  "nbformat_minor": 0
}